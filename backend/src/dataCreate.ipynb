{
 "cells": [
  {
   "cell_type": "code",
   "execution_count": 46,
   "metadata": {},
   "outputs": [],
   "source": [
    "import pandas as pd\n",
    "import json\n",
    "import numpy as np\n",
    "import os"
   ]
  },
  {
   "cell_type": "code",
   "execution_count": 47,
   "metadata": {},
   "outputs": [],
   "source": [
    "\n",
    "with open('data.json', 'r', encoding='utf-8') as file:\n",
    "    rawData = json.load(file)\n",
    "\n",
    "df = pd.DataFrame.from_records(rawData)"
   ]
  },
  {
   "cell_type": "code",
   "execution_count": 48,
   "metadata": {},
   "outputs": [],
   "source": [
    "def genMultiTags(x, tags, p=None):\n",
    "    return np.random.choice(tags, size=2, p=p, replace=False)\n",
    "\n",
    "def genSingleTags(x, tags, p=None):\n",
    "    return np.random.choice(tags, size=1, p=p)"
   ]
  },
  {
   "cell_type": "code",
   "execution_count": 49,
   "metadata": {},
   "outputs": [],
   "source": [
    "\n",
    "locationTags = ['校總區','城中校區','線上', '其他']\n",
    "rewardTags = ['普心時數', '現金', '食物', '其他']\n",
    "typeTags = ['實驗', '問卷', '訪談', '其他']\n",
    "otherTags = ['抽獎', '玩遊戲', 'fMRI', 'MEG', '星巴克', '記憶', '風險決策']\n"
   ]
  },
  {
   "cell_type": "code",
   "execution_count": 53,
   "metadata": {},
   "outputs": [],
   "source": [
    "df['reward'] = df['reward'][0]\n",
    "df['link'] = df['link'][0]\n",
    "df.locationTags = df.locationTags.apply(genSingleTags, args=(locationTags,[0.4,0.1,0.4,0.1]))\n",
    "df.typeTags = df.typeTags.apply(genSingleTags, args=(typeTags,[0.3,0.5,0.1,0.1]))\n",
    "df.rewardTags = df.typeTags.apply(genMultiTags, args=(rewardTags,))\n",
    "df.otherTags = df.locationTags.apply(genMultiTags, args=(otherTags,))"
   ]
  },
  {
   "cell_type": "code",
   "execution_count": 56,
   "metadata": {},
   "outputs": [],
   "source": [
    "df.to_json('data_test.json',orient='records', force_ascii=False)"
   ]
  },
  {
   "cell_type": "code",
   "execution_count": 52,
   "metadata": {},
   "outputs": [],
   "source": [
    "\n",
    "# df.to_csv('test.csv', index=False)\n",
    "# filecsv = 'test.csv'\n",
    "# df = pd.read_csv(filecsv, encoding='utf-8',engine='python')\n",
    "# df.to_csv('test.csv', encoding=\"utf_8_sig\", index=False)\n"
   ]
  },
  {
   "cell_type": "code",
   "execution_count": null,
   "metadata": {},
   "outputs": [],
   "source": []
  }
 ],
 "metadata": {
  "kernelspec": {
   "display_name": "python38",
   "language": "python",
   "name": "python3"
  },
  "language_info": {
   "codemirror_mode": {
    "name": "ipython",
    "version": 3
   },
   "file_extension": ".py",
   "mimetype": "text/x-python",
   "name": "python",
   "nbconvert_exporter": "python",
   "pygments_lexer": "ipython3",
   "version": "3.8.13"
  },
  "orig_nbformat": 4,
  "vscode": {
   "interpreter": {
    "hash": "5ee78e255b6ddca1fef8b57508d7bd24b0b7db8193c1ebc59faaa9168888bf41"
   }
  }
 },
 "nbformat": 4,
 "nbformat_minor": 2
}
